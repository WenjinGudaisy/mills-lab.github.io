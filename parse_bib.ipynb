{
 "cells": [
  {
   "cell_type": "code",
   "execution_count": 4,
   "metadata": {
    "scrolled": true
   },
   "outputs": [
    {
     "name": "stdout",
     "output_type": "stream",
     "text": [
      "BAMnostic: an OS-agnostic toolkit for genomic sequence analysis\n"
     ]
    },
    {
     "ename": "KeyError",
     "evalue": "'PMID'",
     "output_type": "error",
     "traceback": [
      "\u001b[0;31m---------------------------------------------------------------------------\u001b[0m",
      "\u001b[0;31mKeyError\u001b[0m                                  Traceback (most recent call last)",
      "\u001b[0;32m<ipython-input-4-7adf1c886923>\u001b[0m in \u001b[0;36m<module>\u001b[0;34m\u001b[0m\n\u001b[1;32m     11\u001b[0m         \u001b[0;32mif\u001b[0m \u001b[0;32mnot\u001b[0m \u001b[0;34m'PMID'\u001b[0m \u001b[0;32min\u001b[0m \u001b[0mrecord\u001b[0m\u001b[0;34m:\u001b[0m\u001b[0;34m\u001b[0m\u001b[0;34m\u001b[0m\u001b[0m\n\u001b[1;32m     12\u001b[0m             \u001b[0mprint\u001b[0m\u001b[0;34m(\u001b[0m\u001b[0mrecord\u001b[0m\u001b[0;34m[\u001b[0m\u001b[0;34m\"TI\"\u001b[0m\u001b[0;34m]\u001b[0m\u001b[0;34m)\u001b[0m\u001b[0;34m\u001b[0m\u001b[0;34m\u001b[0m\u001b[0m\n\u001b[0;32m---> 13\u001b[0;31m         \u001b[0;32mif\u001b[0m \u001b[0mrecord\u001b[0m\u001b[0;34m[\u001b[0m\u001b[0;34m'PMID'\u001b[0m\u001b[0;34m]\u001b[0m \u001b[0;32min\u001b[0m \u001b[0mpmids\u001b[0m\u001b[0;34m:\u001b[0m\u001b[0;34m\u001b[0m\u001b[0;34m\u001b[0m\u001b[0m\n\u001b[0m\u001b[1;32m     14\u001b[0m             \u001b[0;32mcontinue\u001b[0m\u001b[0;34m\u001b[0m\u001b[0;34m\u001b[0m\u001b[0m\n\u001b[1;32m     15\u001b[0m         \u001b[0mpmids\u001b[0m\u001b[0;34m[\u001b[0m\u001b[0mrecord\u001b[0m\u001b[0;34m[\u001b[0m\u001b[0;34m'PMID'\u001b[0m\u001b[0;34m]\u001b[0m\u001b[0;34m]\u001b[0m \u001b[0;34m=\u001b[0m \u001b[0;36m1\u001b[0m\u001b[0;34m\u001b[0m\u001b[0;34m\u001b[0m\u001b[0m\n",
      "\u001b[0;31mKeyError\u001b[0m: 'PMID'"
     ]
    }
   ],
   "source": [
    "from Bio import Medline\n",
    "import re\n",
    "import glob\n",
    "\n",
    "colon = re.compile(r\"(.*:.*)\")\n",
    "pmids = {}\n",
    "with open(\"assets/mybib.nbib\") as handle:\n",
    "    records = Medline.parse(handle)\n",
    "    for record in records:\n",
    "        #if (pmids.has_key(record['PMID'])): //has_key removed in python3\n",
    "        if not 'PMID' in record:\n",
    "            print(record[\"TI\"])\n",
    "        if record['PMID'] in pmids:\n",
    "            continue\n",
    "        pmids[record['PMID']] = 1  \n",
    "        f = open(\"_pubs/\" + record['PMID'] + \".md\", 'w')\n",
    "        f.write(\"---\\n\")\n",
    "        f.write(\"pmid: \" + record['PMID'] + \"\\n\")\n",
    "        f.write(\"layout: default\\n\")\n",
    "        match = colon.match(record['TI'])\n",
    "        if match:\n",
    "            record['TI'] = match.group(1).replace(\":\", \"&#58;\")\n",
    "        f.write(\"title: \" + record['TI'] + \"\\n\")\n",
    "        f.write(\"authors: \")\n",
    "        authors = record['AU']\n",
    "        #if (record.has_key('CN')): //has_key removed in python3\n",
    "        if 'CN' in record:\n",
    "            authors = authors + record['CN']\n",
    "        f.write(', '.join(authors) + \"\\n\")\n",
    "        f.write(\"pubdate: \" + record['DP'] + \"\\n\")\n",
    "        f.write(\"volume: \" + record['VI'] + \"\\n\")\n",
    "        #if (record.has_key('IP')): //has_key removed in python3\n",
    "        if 'IP' in record:\n",
    "            f.write(\"issue: \" + record['IP'] + \"\\n\")\n",
    "        else:\n",
    "            f.write(\"issue: \" + \"\\n\")\n",
    "        if 'PG' not in record:\n",
    "            record['PG'] = \"N/A\"\n",
    "        f.write(\"pages: \" + record['PG'] + \"\\n\")\n",
    "        f.write(\"journal: \" + record['TA'] + \"\\n\")\n",
    "        f.write(\"---\\n\")\n",
    "        f.close()"
   ]
  },
  {
   "cell_type": "code",
   "execution_count": null,
   "metadata": {
    "collapsed": true
   },
   "outputs": [],
   "source": []
  },
  {
   "cell_type": "code",
   "execution_count": null,
   "metadata": {
    "collapsed": true
   },
   "outputs": [],
   "source": []
  }
 ],
 "metadata": {
  "kernelspec": {
   "display_name": "Python 3",
   "language": "python",
   "name": "python3"
  },
  "language_info": {
   "codemirror_mode": {
    "name": "ipython",
    "version": 3
   },
   "file_extension": ".py",
   "mimetype": "text/x-python",
   "name": "python",
   "nbconvert_exporter": "python",
   "pygments_lexer": "ipython3",
   "version": "3.7.3"
  }
 },
 "nbformat": 4,
 "nbformat_minor": 1
}
