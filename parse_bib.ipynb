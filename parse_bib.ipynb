{
 "cells": [
  {
   "cell_type": "code",
   "execution_count": 9,
   "metadata": {
    "collapsed": false,
    "scrolled": true
   },
   "outputs": [
    {
     "name": "stdout",
     "output_type": "stream",
     "text": [
      "27884106\n",
      "27287201\n",
      "26432245\n",
      "26432246\n",
      "25348406\n",
      "25279985\n",
      "24980144\n",
      "25653097\n",
      "24763686\n",
      "23778870\n",
      "24092746\n",
      "24014587\n",
      "23656838\n",
      "23602499\n",
      "23128226\n",
      "22797897\n",
      "22543379\n",
      "22388000\n",
      "22203992\n",
      "21917140\n",
      "21730125\n",
      "21666693\n",
      "21460062\n",
      "21552272\n",
      "21293372\n",
      "21627829\n",
      "21030649\n",
      "20981092\n",
      "20858594\n",
      "20603005\n",
      "20364138\n",
      "20028483\n",
      "19587683\n",
      "18836035\n",
      "18343812\n",
      "17331616\n",
      "17170104\n",
      "16902084\n",
      "16532396\n",
      "15452238\n",
      "14627837\n",
      "12743273\n",
      "18428700\n",
      "18428701\n"
     ]
    }
   ],
   "source": [
    "from Bio import Medline\n",
    "import re\n",
    "import glob\n",
    "\n",
    "colon = re.compile(r\"(.*:.*)\")\n",
    "pmids = {}\n",
    "with open(\"assets/mybib.nbib\") as handle:\n",
    "    records = Medline.parse(handle)\n",
    "    for record in records:\n",
    "        #if (pmids.has_key(record['PMID'])): //has_key removed in python3\n",
    "        if record['PMID'] in pmids:\n",
    "            continue\n",
    "        pmids[record['PMID']] = 1  \n",
    "        f = open(\"_pubs/\" + record['PMID'] + \".md\", 'w')\n",
    "        f.write(\"---\\n\")\n",
    "        f.write(\"pmid: \" + record['PMID'] + \"\\n\")\n",
    "        f.write(\"layout: default\\n\")\n",
    "        match = colon.match(record['TI'])\n",
    "        if match:\n",
    "            record['TI'] = match.group(1).replace(\":\", \"&#58;\")\n",
    "        f.write(\"title: \" + record['TI'] + \"\\n\")\n",
    "        f.write(\"authors: \")\n",
    "        authors = record['AU']\n",
    "        #if (record.has_key('CN')): //has_key removed in python3\n",
    "        if 'CN' in record:\n",
    "            authors = authors + record['CN']\n",
    "        f.write(', '.join(authors) + \"\\n\")\n",
    "        f.write(\"pubdate: \" + record['DP'] + \"\\n\")\n",
    "        f.write(\"volume: \" + record['VI'] + \"\\n\")\n",
    "        #if (record.has_key('IP')): //has_key removed in python3\n",
    "        if 'IP' in record:\n",
    "            f.write(\"issue: \" + record['IP'] + \"\\n\")\n",
    "        else:\n",
    "            f.write(\"issue: \" + \"\\n\")\n",
    "        f.write(\"pages: \" + record['PG'] + \"\\n\")\n",
    "        f.write(\"journal: \" + record['TA'] + \"\\n\")\n",
    "        f.write(\"---\\n\")\n",
    "        f.close()"
   ]
  },
  {
   "cell_type": "code",
   "execution_count": null,
   "metadata": {
    "collapsed": true
   },
   "outputs": [],
   "source": []
  },
  {
   "cell_type": "code",
   "execution_count": null,
   "metadata": {
    "collapsed": true
   },
   "outputs": [],
   "source": []
  }
 ],
 "metadata": {
  "kernelspec": {
   "display_name": "Python 3",
   "language": "python",
   "name": "python3"
  },
  "language_info": {
   "codemirror_mode": {
    "name": "ipython",
    "version": 3
   },
   "file_extension": ".py",
   "mimetype": "text/x-python",
   "name": "python",
   "nbconvert_exporter": "python",
   "pygments_lexer": "ipython3",
   "version": "3.6.0"
  }
 },
 "nbformat": 4,
 "nbformat_minor": 0
}
